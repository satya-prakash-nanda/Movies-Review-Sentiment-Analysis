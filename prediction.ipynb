{
 "cells": [
  {
   "cell_type": "code",
   "execution_count": 1,
   "id": "e9f093aa-5ab3-42ef-9601-a1058145039b",
   "metadata": {},
   "outputs": [],
   "source": [
    "# Step 1: Import Libraries and Load the Model\n",
    "import numpy as np\n",
    "import tensorflow as tf\n",
    "from tensorflow.keras.datasets import imdb\n",
    "from tensorflow.keras.preprocessing import sequence\n",
    "from tensorflow.keras.models import load_model"
   ]
  },
  {
   "cell_type": "code",
   "execution_count": 2,
   "id": "52476f70-6c64-4a5f-8f28-204d44bf5337",
   "metadata": {},
   "outputs": [],
   "source": [
    "# Load the IMDB dataset word index\n",
    "word_index = imdb.get_word_index()\n",
    "reverse_word_index = {value: key for key, value in word_index.items()}"
   ]
  },
  {
   "cell_type": "code",
   "execution_count": 3,
   "id": "37197bff-64be-4d26-939d-88face4db7a7",
   "metadata": {},
   "outputs": [
    {
     "name": "stderr",
     "output_type": "stream",
     "text": [
      "WARNING:absl:Compiled the loaded model, but the compiled metrics have yet to be built. `model.compile_metrics` will be empty until you train or evaluate the model.\n"
     ]
    },
    {
     "data": {
      "text/html": [
       "<pre style=\"white-space:pre;overflow-x:auto;line-height:normal;font-family:Menlo,'DejaVu Sans Mono',consolas,'Courier New',monospace\"><span style=\"font-weight: bold\">Model: \"sequential\"</span>\n",
       "</pre>\n"
      ],
      "text/plain": [
       "\u001b[1mModel: \"sequential\"\u001b[0m\n"
      ]
     },
     "metadata": {},
     "output_type": "display_data"
    },
    {
     "data": {
      "text/html": [
       "<pre style=\"white-space:pre;overflow-x:auto;line-height:normal;font-family:Menlo,'DejaVu Sans Mono',consolas,'Courier New',monospace\">┏━━━━━━━━━━━━━━━━━━━━━━━━━━━━━━━━━━━━━━┳━━━━━━━━━━━━━━━━━━━━━━━━━━━━━┳━━━━━━━━━━━━━━━━━┓\n",
       "┃<span style=\"font-weight: bold\"> Layer (type)                         </span>┃<span style=\"font-weight: bold\"> Output Shape                </span>┃<span style=\"font-weight: bold\">         Param # </span>┃\n",
       "┡━━━━━━━━━━━━━━━━━━━━━━━━━━━━━━━━━━━━━━╇━━━━━━━━━━━━━━━━━━━━━━━━━━━━━╇━━━━━━━━━━━━━━━━━┩\n",
       "│ embedding (<span style=\"color: #0087ff; text-decoration-color: #0087ff\">Embedding</span>)                │ (<span style=\"color: #00af00; text-decoration-color: #00af00\">32</span>, <span style=\"color: #00af00; text-decoration-color: #00af00\">500</span>, <span style=\"color: #00af00; text-decoration-color: #00af00\">128</span>)              │       <span style=\"color: #00af00; text-decoration-color: #00af00\">1,280,000</span> │\n",
       "├──────────────────────────────────────┼─────────────────────────────┼─────────────────┤\n",
       "│ simple_rnn (<span style=\"color: #0087ff; text-decoration-color: #0087ff\">SimpleRNN</span>)               │ (<span style=\"color: #00af00; text-decoration-color: #00af00\">32</span>, <span style=\"color: #00af00; text-decoration-color: #00af00\">128</span>)                   │          <span style=\"color: #00af00; text-decoration-color: #00af00\">32,896</span> │\n",
       "├──────────────────────────────────────┼─────────────────────────────┼─────────────────┤\n",
       "│ dense (<span style=\"color: #0087ff; text-decoration-color: #0087ff\">Dense</span>)                        │ (<span style=\"color: #00af00; text-decoration-color: #00af00\">32</span>, <span style=\"color: #00af00; text-decoration-color: #00af00\">1</span>)                     │             <span style=\"color: #00af00; text-decoration-color: #00af00\">129</span> │\n",
       "└──────────────────────────────────────┴─────────────────────────────┴─────────────────┘\n",
       "</pre>\n"
      ],
      "text/plain": [
       "┏━━━━━━━━━━━━━━━━━━━━━━━━━━━━━━━━━━━━━━┳━━━━━━━━━━━━━━━━━━━━━━━━━━━━━┳━━━━━━━━━━━━━━━━━┓\n",
       "┃\u001b[1m \u001b[0m\u001b[1mLayer (type)                        \u001b[0m\u001b[1m \u001b[0m┃\u001b[1m \u001b[0m\u001b[1mOutput Shape               \u001b[0m\u001b[1m \u001b[0m┃\u001b[1m \u001b[0m\u001b[1m        Param #\u001b[0m\u001b[1m \u001b[0m┃\n",
       "┡━━━━━━━━━━━━━━━━━━━━━━━━━━━━━━━━━━━━━━╇━━━━━━━━━━━━━━━━━━━━━━━━━━━━━╇━━━━━━━━━━━━━━━━━┩\n",
       "│ embedding (\u001b[38;5;33mEmbedding\u001b[0m)                │ (\u001b[38;5;34m32\u001b[0m, \u001b[38;5;34m500\u001b[0m, \u001b[38;5;34m128\u001b[0m)              │       \u001b[38;5;34m1,280,000\u001b[0m │\n",
       "├──────────────────────────────────────┼─────────────────────────────┼─────────────────┤\n",
       "│ simple_rnn (\u001b[38;5;33mSimpleRNN\u001b[0m)               │ (\u001b[38;5;34m32\u001b[0m, \u001b[38;5;34m128\u001b[0m)                   │          \u001b[38;5;34m32,896\u001b[0m │\n",
       "├──────────────────────────────────────┼─────────────────────────────┼─────────────────┤\n",
       "│ dense (\u001b[38;5;33mDense\u001b[0m)                        │ (\u001b[38;5;34m32\u001b[0m, \u001b[38;5;34m1\u001b[0m)                     │             \u001b[38;5;34m129\u001b[0m │\n",
       "└──────────────────────────────────────┴─────────────────────────────┴─────────────────┘\n"
      ]
     },
     "metadata": {},
     "output_type": "display_data"
    },
    {
     "data": {
      "text/html": [
       "<pre style=\"white-space:pre;overflow-x:auto;line-height:normal;font-family:Menlo,'DejaVu Sans Mono',consolas,'Courier New',monospace\"><span style=\"font-weight: bold\"> Total params: </span><span style=\"color: #00af00; text-decoration-color: #00af00\">1,313,027</span> (5.01 MB)\n",
       "</pre>\n"
      ],
      "text/plain": [
       "\u001b[1m Total params: \u001b[0m\u001b[38;5;34m1,313,027\u001b[0m (5.01 MB)\n"
      ]
     },
     "metadata": {},
     "output_type": "display_data"
    },
    {
     "data": {
      "text/html": [
       "<pre style=\"white-space:pre;overflow-x:auto;line-height:normal;font-family:Menlo,'DejaVu Sans Mono',consolas,'Courier New',monospace\"><span style=\"font-weight: bold\"> Trainable params: </span><span style=\"color: #00af00; text-decoration-color: #00af00\">1,313,025</span> (5.01 MB)\n",
       "</pre>\n"
      ],
      "text/plain": [
       "\u001b[1m Trainable params: \u001b[0m\u001b[38;5;34m1,313,025\u001b[0m (5.01 MB)\n"
      ]
     },
     "metadata": {},
     "output_type": "display_data"
    },
    {
     "data": {
      "text/html": [
       "<pre style=\"white-space:pre;overflow-x:auto;line-height:normal;font-family:Menlo,'DejaVu Sans Mono',consolas,'Courier New',monospace\"><span style=\"font-weight: bold\"> Non-trainable params: </span><span style=\"color: #00af00; text-decoration-color: #00af00\">0</span> (0.00 B)\n",
       "</pre>\n"
      ],
      "text/plain": [
       "\u001b[1m Non-trainable params: \u001b[0m\u001b[38;5;34m0\u001b[0m (0.00 B)\n"
      ]
     },
     "metadata": {},
     "output_type": "display_data"
    },
    {
     "data": {
      "text/html": [
       "<pre style=\"white-space:pre;overflow-x:auto;line-height:normal;font-family:Menlo,'DejaVu Sans Mono',consolas,'Courier New',monospace\"><span style=\"font-weight: bold\"> Optimizer params: </span><span style=\"color: #00af00; text-decoration-color: #00af00\">2</span> (12.00 B)\n",
       "</pre>\n"
      ],
      "text/plain": [
       "\u001b[1m Optimizer params: \u001b[0m\u001b[38;5;34m2\u001b[0m (12.00 B)\n"
      ]
     },
     "metadata": {},
     "output_type": "display_data"
    }
   ],
   "source": [
    "# Load the pre-trained model with ReLU activation\n",
    "model = load_model('simple_rnn_imdb.h5')\n",
    "model.summary()"
   ]
  },
  {
   "cell_type": "code",
   "execution_count": 4,
   "id": "65e93880-dbd7-4a4a-a061-a3b2bbcf89f7",
   "metadata": {},
   "outputs": [
    {
     "data": {
      "text/plain": [
       "[array([[-0.3911416 ,  0.6104681 ,  0.19781786, ..., -0.02614416,\n",
       "          0.1877172 , -0.35077423],\n",
       "        [-0.13133746,  0.08160425,  0.08871946, ..., -0.11768132,\n",
       "          0.1276375 , -0.1114634 ],\n",
       "        [ 0.06904808,  0.02757433,  0.05495831, ..., -0.00405369,\n",
       "          0.02736053, -0.0553125 ],\n",
       "        ...,\n",
       "        [-0.10166429,  0.06738341, -0.00677276, ..., -0.03958302,\n",
       "          0.01909712,  0.00672816],\n",
       "        [ 0.01844473,  0.00979947,  0.01533425, ..., -0.01912554,\n",
       "         -0.02099979, -0.03501235],\n",
       "        [-0.06011068, -0.03536471,  0.06137729, ..., -0.10816442,\n",
       "         -0.10761592, -0.07559422]], dtype=float32),\n",
       " array([[-0.2175833 ,  0.05074156,  0.05028854, ..., -0.01069739,\n",
       "          0.05899052, -0.11395255],\n",
       "        [ 0.14836705, -0.01025937, -0.00876552, ..., -0.15101646,\n",
       "         -0.03577955,  0.11221696],\n",
       "        [-0.09442926,  0.06206507,  0.05100668, ...,  0.0859599 ,\n",
       "         -0.03889382, -0.08439319],\n",
       "        ...,\n",
       "        [-0.09138037,  0.04245851,  0.12144878, ..., -0.15599255,\n",
       "          0.0963574 ,  0.1053972 ],\n",
       "        [ 0.12162911, -0.06539164,  0.06964923, ..., -0.09373427,\n",
       "         -0.05099285, -0.14712887],\n",
       "        [ 0.03171614, -0.09947448,  0.00371152, ..., -0.08124949,\n",
       "         -0.05663824,  0.06916917]], dtype=float32),\n",
       " array([[ 0.03878213,  0.1637331 , -0.05616526, ...,  0.04930049,\n",
       "          0.03599075, -0.12146781],\n",
       "        [ 0.01883746, -0.07984872, -0.02079052, ...,  0.09325042,\n",
       "         -0.11199504,  0.04806804],\n",
       "        [ 0.1294573 , -0.03524159,  0.05934231, ...,  0.14985563,\n",
       "         -0.05816724, -0.07285938],\n",
       "        ...,\n",
       "        [ 0.10898927, -0.11267884, -0.03824035, ...,  0.12145181,\n",
       "          0.00277074, -0.09037555],\n",
       "        [-0.097612  , -0.08778693,  0.02683765, ..., -0.0559202 ,\n",
       "         -0.04520682,  0.0332758 ],\n",
       "        [-0.14868489, -0.06744594,  0.08772826, ...,  0.08164898,\n",
       "         -0.10508128, -0.09265573]], dtype=float32),\n",
       " array([ 0.04464239, -0.0530964 , -0.00966997, -0.01107218, -0.07972829,\n",
       "        -0.04781884, -0.0344425 , -0.0072435 , -0.05225967,  0.03787228,\n",
       "        -0.00701728,  0.00321491, -0.00500796, -0.05122004, -0.06348202,\n",
       "        -0.04157029,  0.00659276, -0.0362939 ,  0.00547721, -0.01713661,\n",
       "        -0.06219004, -0.05781002,  0.02257261, -0.0412236 , -0.04914624,\n",
       "        -0.0038505 ,  0.02756139, -0.04189227,  0.02187888,  0.00491055,\n",
       "        -0.02950572, -0.03560867, -0.0344625 , -0.04546715, -0.03607662,\n",
       "        -0.02930935, -0.04070927, -0.03247837, -0.03716238, -0.00633517,\n",
       "        -0.03092828, -0.05647445, -0.00052145,  0.05483359, -0.03443306,\n",
       "        -0.08768954, -0.01744786,  0.00390141, -0.01435639,  0.03040015,\n",
       "        -0.02049392,  0.01269145, -0.02851821,  0.01379032, -0.02951356,\n",
       "        -0.0458645 ,  0.0044528 ,  0.01991639,  0.00520377,  0.01444027,\n",
       "        -0.04713862, -0.01777724,  0.06143031, -0.04145843,  0.08607349,\n",
       "        -0.03569848,  0.0164907 ,  0.03177314, -0.0325421 , -0.05104518,\n",
       "         0.00950384,  0.00366537, -0.02891165,  0.00913426, -0.00419498,\n",
       "        -0.03225968, -0.02895476, -0.00515598, -0.02324534,  0.04316748,\n",
       "         0.04477879,  0.00526683, -0.0465597 ,  0.03538649, -0.04730482,\n",
       "        -0.01061171,  0.04029122, -0.01038941, -0.04435187, -0.04389714,\n",
       "         0.01020993, -0.04161134,  0.00657771, -0.06483421,  0.05110974,\n",
       "         0.04426548, -0.03712769, -0.01064087,  0.00704826,  0.03452363,\n",
       "        -0.06612019, -0.02524532, -0.06045218,  0.02341388, -0.03886836,\n",
       "        -0.02687779, -0.00333092, -0.04338698, -0.02408594, -0.03251304,\n",
       "        -0.00011566, -0.04160508, -0.02775078, -0.05573566, -0.01023707,\n",
       "         0.02208707, -0.06568845, -0.0451296 ,  0.06147085,  0.03842899,\n",
       "         0.00450807,  0.02054882, -0.02543002, -0.03717477,  0.02782475,\n",
       "         0.01157551,  0.0469916 , -0.04542914], dtype=float32),\n",
       " array([[ 0.07309072],\n",
       "        [ 0.06518919],\n",
       "        [ 0.1459889 ],\n",
       "        [ 0.09611235],\n",
       "        [-0.06515172],\n",
       "        [-0.16194484],\n",
       "        [-0.18243596],\n",
       "        [-0.3299134 ],\n",
       "        [-0.04178113],\n",
       "        [ 0.25202897],\n",
       "        [ 0.28808007],\n",
       "        [ 0.21048903],\n",
       "        [-0.0246457 ],\n",
       "        [-0.18223558],\n",
       "        [ 0.07470828],\n",
       "        [ 0.0240153 ],\n",
       "        [-0.20473737],\n",
       "        [-0.05944094],\n",
       "        [ 0.22635661],\n",
       "        [ 0.4537633 ],\n",
       "        [-0.01094263],\n",
       "        [-0.22643726],\n",
       "        [-0.01000466],\n",
       "        [-0.09753516],\n",
       "        [-0.21986328],\n",
       "        [ 0.1989162 ],\n",
       "        [ 0.11722644],\n",
       "        [-0.08783991],\n",
       "        [ 0.07090481],\n",
       "        [-0.03261454],\n",
       "        [ 0.33526638],\n",
       "        [ 0.28517005],\n",
       "        [-0.3823127 ],\n",
       "        [-0.03800287],\n",
       "        [ 0.10792311],\n",
       "        [ 0.06570336],\n",
       "        [-0.11291914],\n",
       "        [-0.14945608],\n",
       "        [-0.01013631],\n",
       "        [ 0.09838181],\n",
       "        [ 0.08119211],\n",
       "        [-0.2920898 ],\n",
       "        [ 0.13013057],\n",
       "        [-0.04718849],\n",
       "        [-0.22425862],\n",
       "        [ 0.34504965],\n",
       "        [-0.08518461],\n",
       "        [-0.06066103],\n",
       "        [-0.13896263],\n",
       "        [-0.25419945],\n",
       "        [ 0.21231657],\n",
       "        [ 0.03090595],\n",
       "        [-0.00958294],\n",
       "        [-0.1478875 ],\n",
       "        [ 0.16191705],\n",
       "        [-0.15823306],\n",
       "        [-0.61865175],\n",
       "        [ 0.16971096],\n",
       "        [ 0.04250573],\n",
       "        [-0.17509262],\n",
       "        [ 0.17182158],\n",
       "        [ 0.1584365 ],\n",
       "        [ 0.01799745],\n",
       "        [-0.6907811 ],\n",
       "        [-0.6380399 ],\n",
       "        [ 0.01891617],\n",
       "        [ 0.20091484],\n",
       "        [-0.10327223],\n",
       "        [ 0.06674171],\n",
       "        [ 0.00103049],\n",
       "        [-0.09351324],\n",
       "        [ 0.31501564],\n",
       "        [-0.18063696],\n",
       "        [-0.26754075],\n",
       "        [-0.06205674],\n",
       "        [ 0.1084943 ],\n",
       "        [-0.27372938],\n",
       "        [-0.17738003],\n",
       "        [ 0.02787577],\n",
       "        [ 0.17689297],\n",
       "        [ 0.23890255],\n",
       "        [-0.23566197],\n",
       "        [-0.06559489],\n",
       "        [ 0.20314921],\n",
       "        [ 0.09945484],\n",
       "        [ 0.2100982 ],\n",
       "        [ 0.14014831],\n",
       "        [-0.03445211],\n",
       "        [-0.11531828],\n",
       "        [-0.145031  ],\n",
       "        [ 0.21408717],\n",
       "        [-0.06437311],\n",
       "        [ 0.06055319],\n",
       "        [-0.08221896],\n",
       "        [ 0.14929008],\n",
       "        [ 0.18442287],\n",
       "        [-0.36691105],\n",
       "        [-0.22730924],\n",
       "        [-0.3723134 ],\n",
       "        [ 0.01260009],\n",
       "        [-0.12654147],\n",
       "        [-0.18338549],\n",
       "        [-0.12933317],\n",
       "        [-0.14408106],\n",
       "        [ 0.06442334],\n",
       "        [-0.22175197],\n",
       "        [-0.18532544],\n",
       "        [ 0.19206901],\n",
       "        [-0.07085893],\n",
       "        [-0.05982916],\n",
       "        [-0.10843026],\n",
       "        [-0.21483028],\n",
       "        [-0.19369045],\n",
       "        [-0.10392702],\n",
       "        [-0.14304645],\n",
       "        [ 0.08905988],\n",
       "        [ 0.17823009],\n",
       "        [ 0.04348062],\n",
       "        [ 0.11201083],\n",
       "        [ 0.18264481],\n",
       "        [-0.08829647],\n",
       "        [-0.04343809],\n",
       "        [-0.22364572],\n",
       "        [-0.21301422],\n",
       "        [ 0.18619154],\n",
       "        [ 0.22902413],\n",
       "        [-0.19516408],\n",
       "        [-0.17953746]], dtype=float32),\n",
       " array([-0.77285343], dtype=float32)]"
      ]
     },
     "execution_count": 4,
     "metadata": {},
     "output_type": "execute_result"
    }
   ],
   "source": [
    "model.get_weights()"
   ]
  },
  {
   "cell_type": "code",
   "execution_count": 5,
   "id": "ac81afed-0239-44e4-9c89-e7dbcb2c116f",
   "metadata": {},
   "outputs": [],
   "source": [
    "# Helper Functions\n",
    "# Function to decode reviews\n",
    "def decode_review(encoded_review):\n",
    "    return ' '.join([reverse_word_index.get(i - 3, '?') for i in encoded_review])\n",
    "\n",
    "# Function to preprocess user input\n",
    "def preprocess_text(text):\n",
    "    words = text.lower().split()\n",
    "    encoded_review = [word_index.get(word, 2) + 3 for word in words]\n",
    "    padded_review = sequence.pad_sequences([encoded_review], maxlen=500)\n",
    "    return padded_review"
   ]
  },
  {
   "cell_type": "code",
   "execution_count": 6,
   "id": "d419d8a3-4064-42f0-b41b-7c68610af5c3",
   "metadata": {},
   "outputs": [],
   "source": [
    "# Prediction  function\n",
    "\n",
    "def predict_sentiment(review):\n",
    "    preprocessed_input=preprocess_text(review)\n",
    "\n",
    "    prediction=model.predict(preprocessed_input)\n",
    "\n",
    "    sentiment = 'Positive' if prediction[0][0] > 0.5 else 'Negative'\n",
    "    \n",
    "    return sentiment, prediction[0][0]\n",
    "\n"
   ]
  },
  {
   "cell_type": "code",
   "execution_count": 7,
   "id": "983e135e-5199-47c0-b1d7-cee901f773ca",
   "metadata": {},
   "outputs": [
    {
     "name": "stdout",
     "output_type": "stream",
     "text": [
      "\u001b[1m1/1\u001b[0m \u001b[32m━━━━━━━━━━━━━━━━━━━━\u001b[0m\u001b[37m\u001b[0m \u001b[1m0s\u001b[0m 193ms/step\n",
      "Review: This movie was fantastic! The acting was great and the plot was thrilling.\n",
      "Sentiment: Positive\n",
      "Prediction Score: 0.7696676254272461\n"
     ]
    }
   ],
   "source": [
    "# User Input and Prediction\n",
    "# Example review for prediction\n",
    "example_review = \"This movie was fantastic! The acting was great and the plot was thrilling.\"\n",
    "\n",
    "sentiment,score=predict_sentiment(example_review)\n",
    "\n",
    "print(f'Review: {example_review}')\n",
    "print(f'Sentiment: {sentiment}')\n",
    "print(f'Prediction Score: {score}')"
   ]
  },
  {
   "cell_type": "code",
   "execution_count": null,
   "id": "0f0e22c3-b801-42f3-ae91-b99e62d61d16",
   "metadata": {},
   "outputs": [],
   "source": []
  }
 ],
 "metadata": {
  "kernelspec": {
   "display_name": "Python 3 (ipykernel)",
   "language": "python",
   "name": "python3"
  },
  "language_info": {
   "codemirror_mode": {
    "name": "ipython",
    "version": 3
   },
   "file_extension": ".py",
   "mimetype": "text/x-python",
   "name": "python",
   "nbconvert_exporter": "python",
   "pygments_lexer": "ipython3",
   "version": "3.11.7"
  }
 },
 "nbformat": 4,
 "nbformat_minor": 5
}
